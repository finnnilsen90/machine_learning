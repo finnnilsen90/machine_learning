{
 "cells": [
  {
   "cell_type": "code",
   "execution_count": 25,
   "metadata": {},
   "outputs": [
    {
     "name": "stdout",
     "output_type": "stream",
     "text": [
      "10\n",
      "Full\n",
      "[[10 10 10 10]\n",
      " [10 10 10 10]\n",
      " [10 10 10 10]\n",
      " [10 10 10 10]]\n",
      "Diagonal\n",
      "[[10  0  0  0]\n",
      " [ 0 10  0  0]\n",
      " [ 0  0 10  0]\n",
      " [ 0  0  0 10]]\n"
     ]
    }
   ],
   "source": [
    "# create two 4 x 4 matricies: full and diagnal matrix.\n",
    "import numpy as np\n",
    "# Full\n",
    "n = int(np.random.randn()*100)\n",
    "print(n)\n",
    "A = np.full((4, 4), n)\n",
    "print('Full')\n",
    "print(A)\n",
    "\n",
    "# Diagonal\n",
    "B = np.zeros((4, 4), int)\n",
    "np.fill_diagonal(B, n)\n",
    "print('Diagonal')\n",
    "print(B)"
   ]
  },
  {
   "cell_type": "code",
   "execution_count": 31,
   "metadata": {},
   "outputs": [
    {
     "name": "stdout",
     "output_type": "stream",
     "text": [
      "\n",
      "hadamard full\n",
      "[[100 100 100 100]\n",
      " [100 100 100 100]\n",
      " [100 100 100 100]\n",
      " [100 100 100 100]]\n",
      "\n",
      "hadamard diagonal\n",
      "[[100   0   0   0]\n",
      " [  0 100   0   0]\n",
      " [  0   0 100   0]\n",
      " [  0   0   0 100]]\n",
      "\n",
      "standard full\n",
      "[[400 400 400 400]\n",
      " [400 400 400 400]\n",
      " [400 400 400 400]\n",
      " [400 400 400 400]]\n",
      "\n",
      "standard diagonal\n",
      "[[100   0   0   0]\n",
      " [  0 100   0   0]\n",
      " [  0   0 100   0]\n",
      " [  0   0   0 100]]\n",
      "\n",
      "had_A == had_B\n",
      "False\n",
      "\n",
      "stan_A == stan_B\n",
      "False\n"
     ]
    }
   ],
   "source": [
    "# multiply each matrix by itself standard and hadamard multiplications. \n",
    "\n",
    "# hadamard full\n",
    "print('')\n",
    "had_A = np.multiply( A,A )\n",
    "print('hadamard full')\n",
    "print(had_A)\n",
    "\n",
    "# hadamard diagonal\n",
    "print('')\n",
    "had_B = np.multiply( B,B )\n",
    "print('hadamard diagonal')\n",
    "print(had_B)\n",
    "\n",
    "# standard full\n",
    "print('')\n",
    "stan_A = np.matmul(A,A)\n",
    "print('standard full')\n",
    "print(stan_A)\n",
    "\n",
    "# standard diagonal\n",
    "print('')\n",
    "stan_B = np.matmul(B,B)\n",
    "print('standard diagonal')\n",
    "print(stan_B)\n",
    "\n",
    "print('')\n",
    "print('had_A == had_B')\n",
    "print(np.array_equal(had_A,had_B))\n",
    "\n",
    "print('')\n",
    "print('stan_A == stan_B')\n",
    "print(np.array_equal(stan_A,stan_B))"
   ]
  }
 ],
 "metadata": {
  "kernelspec": {
   "display_name": "Python 3",
   "language": "python",
   "name": "python3"
  },
  "language_info": {
   "codemirror_mode": {
    "name": "ipython",
    "version": 3
   },
   "file_extension": ".py",
   "mimetype": "text/x-python",
   "name": "python",
   "nbconvert_exporter": "python",
   "pygments_lexer": "ipython3",
   "version": "3.6.5"
  }
 },
 "nbformat": 4,
 "nbformat_minor": 2
}
