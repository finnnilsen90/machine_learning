{
 "cells": [
  {
   "cell_type": "code",
   "execution_count": 1,
   "metadata": {},
   "outputs": [],
   "source": [
    "import numpy as np\n",
    "import pandas as pd\n",
    "import matplotlib.pyplot as plt\n",
    "import math"
   ]
  },
  {
   "cell_type": "code",
   "execution_count": 17,
   "metadata": {},
   "outputs": [
    {
     "name": "stdout",
     "output_type": "stream",
     "text": [
      "Matrix A\n",
      "[[9.  6.  3.  6. ]\n",
      " [6.  0.  5.  4.5]\n",
      " [3.  5.  5.  4. ]\n",
      " [6.  4.5 4.  2. ]]\n",
      "\n",
      "Matrix B\n",
      "[[7.  2.  9.  7. ]\n",
      " [2.  6.  1.  4.5]\n",
      " [9.  1.  5.  7.5]\n",
      " [7.  4.5 7.5 2. ]]\n",
      "\n",
      "Sum\n",
      "[[345.   162.5  258.5  244.5 ]\n",
      " [162.5  142.5  123.75 122.5 ]\n",
      " [258.5  123.75 238.25 188.5 ]\n",
      " [244.5  122.5  188.5  205.75]]\n",
      "Multiplication\n",
      "[[21243.     7591.5   20230.5   16752.   ]\n",
      " [ 4915.5    4686.25   4714.25   4580.25 ]\n",
      " [13141.25   4780.875 13565.125 10162.5  ]\n",
      " [11421.25   4425.    10620.    10619.375]]\n",
      "Hadamard Multiplication\n",
      "[[29646.      6384.     15600.     14647.5   ]\n",
      " [ 6384.      4976.5625  3827.75    3737.5   ]\n",
      " [15600.      3827.75   12243.75    8220.    ]\n",
      " [14647.5     3737.5     8220.      9874.375 ]]\n",
      "\n",
      "Sum\n",
      "[[ True  True  True  True]\n",
      " [ True  True  True  True]\n",
      " [ True  True  True  True]\n",
      " [ True  True  True  True]]\n",
      "Multiplication\n",
      "[[ True False False False]\n",
      " [False  True False False]\n",
      " [False False  True False]\n",
      " [False False False  True]]\n",
      "Hadamard Multiplication\n",
      "[[ True  True  True  True]\n",
      " [ True  True  True  True]\n",
      " [ True  True  True  True]\n",
      " [ True  True  True  True]]\n"
     ]
    }
   ],
   "source": [
    "# create two symetric matricies\n",
    "n = 4\n",
    "m= 6\n",
    "A_rand = np.random.randint(10,size=(n,n))\n",
    "A = (A_rand + np.transpose(A_rand))/2\n",
    "B_rand = np.random.randint(10,size=(n,n))\n",
    "B = (B_rand + B_rand.T)/2\n",
    "print('Matrix A')\n",
    "print(A)\n",
    "print('')\n",
    "print('Matrix B')\n",
    "print(B)\n",
    "\n",
    "# Compute the sum, multiplication, and Hadamard multiplication of the two matricies\n",
    "print('')\n",
    "print('Sum')\n",
    "sum_m = np.matrix.transpose(A)@A+np.matrix.transpose(B)@B\n",
    "print(sum_m)\n",
    "print('Multiplication')\n",
    "multi_m = np.matrix.transpose(A)@A*np.matrix.transpose(B)@B\n",
    "print(multi_m)\n",
    "print('Hadamard Multiplication')\n",
    "multi_h = np.multiply(np.matrix.transpose(A)@A,np.matrix.transpose(B)@B)\n",
    "print(multi_h)\n",
    "\n",
    "# Determine if the result is still symetric\n",
    "print('')\n",
    "print('Sum')\n",
    "print(np.equal(sum_m,np.transpose(sum_m)))\n",
    "print('Multiplication')\n",
    "print(np.equal(multi_m,np.transpose(multi_m)))\n",
    "print('Hadamard Multiplication')\n",
    "print(np.equal(multi_h,np.transpose(multi_h)))"
   ]
  }
 ],
 "metadata": {
  "kernelspec": {
   "display_name": "Python 3",
   "language": "python",
   "name": "python3"
  },
  "language_info": {
   "codemirror_mode": {
    "name": "ipython",
    "version": 3
   },
   "file_extension": ".py",
   "mimetype": "text/x-python",
   "name": "python",
   "nbconvert_exporter": "python",
   "pygments_lexer": "ipython3",
   "version": "3.6.5"
  }
 },
 "nbformat": 4,
 "nbformat_minor": 2
}
