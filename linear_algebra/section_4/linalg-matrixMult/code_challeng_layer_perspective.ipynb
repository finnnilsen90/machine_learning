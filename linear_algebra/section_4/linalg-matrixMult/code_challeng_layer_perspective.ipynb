{
 "cells": [
  {
   "cell_type": "code",
   "execution_count": 1,
   "metadata": {},
   "outputs": [
    {
     "name": "stdout",
     "output_type": "stream",
     "text": [
      "[[0 3 0 9 8 9]\n",
      " [8 2 8 4 2 3]\n",
      " [4 2 2 3 7 7]\n",
      " [3 1 6 6 8 2]]\n",
      "\n",
      "[[8 0 4 6]\n",
      " [2 1 4 3]\n",
      " [4 8 9 3]\n",
      " [5 6 8 0]\n",
      " [7 4 3 2]\n",
      " [3 0 1 3]]\n"
     ]
    }
   ],
   "source": [
    "# implement matrix multiplication via layers\n",
    "import numpy as np\n",
    "import pandas as pd\n",
    "\n",
    "m = 4\n",
    "n = 6\n",
    "A = np.random.randint(10,size=(m,n))\n",
    "B = np.random.randint(10,size=(n,m))\n",
    "print(A)\n",
    "print('')\n",
    "print(B)"
   ]
  },
  {
   "cell_type": "code",
   "execution_count": 2,
   "metadata": {},
   "outputs": [
    {
     "name": "stdout",
     "output_type": "stream",
     "text": [
      "[[134  89 117  52]\n",
      " [143  98 153  91]\n",
      " [129  64  94  71]\n",
      " [142 117 144  61]]\n"
     ]
    }
   ],
   "source": [
    "def mat_mult_lay(a,b):\n",
    "    out_prod =  []\n",
    "    m = len(a)\n",
    "    n = len(b)\n",
    "    def outerprod(dimmension):\n",
    "        out_prod = []\n",
    "        for j in range(m):\n",
    "            col = a[j][dimmension]   \n",
    "            in_arr = [] \n",
    "            for i in range(m):\n",
    "                row = b[dimmension][i]\n",
    "                in_arr.append(col*row)\n",
    "            out_prod.append(in_arr)\n",
    "        return out_prod\n",
    "\n",
    "    mat_mult = np.zeros(m, dtype=int)\n",
    "    for x in range(n):\n",
    "        mat_mult = mat_mult + outerprod(x)\n",
    "        \n",
    "    return mat_mult\n",
    "finn = mat_mult_lay(A,B)\n",
    "print(finn)"
   ]
  },
  {
   "cell_type": "code",
   "execution_count": 3,
   "metadata": {},
   "outputs": [
    {
     "name": "stdout",
     "output_type": "stream",
     "text": [
      "Finn Layer Matrix Multiplication\n",
      "[[134  89 117  52]\n",
      " [143  98 153  91]\n",
      " [129  64  94  71]\n",
      " [142 117 144  61]]\n",
      "Mat Mult\n",
      "[[134  89 117  52]\n",
      " [143  98 153  91]\n",
      " [129  64  94  71]\n",
      " [142 117 144  61]]\n"
     ]
    }
   ],
   "source": [
    "print('Finn Layer Matrix Multiplication')\n",
    "print(finn)\n",
    "\n",
    "comp = np.matmul(A,B)\n",
    "print('Mat Mult')\n",
    "print(comp)"
   ]
  },
  {
   "cell_type": "code",
   "execution_count": 4,
   "metadata": {},
   "outputs": [
    {
     "name": "stdout",
     "output_type": "stream",
     "text": [
      "Performance Check\n",
      "[[0 0 0 0]\n",
      " [0 0 0 0]\n",
      " [0 0 0 0]\n",
      " [0 0 0 0]]\n"
     ]
    }
   ],
   "source": [
    "print('Performance Check')\n",
    "print(finn-comp)"
   ]
  }
 ],
 "metadata": {
  "kernelspec": {
   "display_name": "Python 3",
   "language": "python",
   "name": "python3"
  },
  "language_info": {
   "codemirror_mode": {
    "name": "ipython",
    "version": 3
   },
   "file_extension": ".py",
   "mimetype": "text/x-python",
   "name": "python",
   "nbconvert_exporter": "python",
   "pygments_lexer": "ipython3",
   "version": "3.6.5"
  }
 },
 "nbformat": 4,
 "nbformat_minor": 2
}
