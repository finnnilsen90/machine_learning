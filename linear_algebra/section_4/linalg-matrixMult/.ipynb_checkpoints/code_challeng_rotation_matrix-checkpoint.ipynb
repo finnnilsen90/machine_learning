{
 "cells": [
  {
   "cell_type": "code",
   "execution_count": 2,
   "metadata": {},
   "outputs": [],
   "source": [
    "import numpy as np\n",
    "import matplotlib.pyplot as plt\n",
    "import math"
   ]
  },
  {
   "cell_type": "code",
   "execution_count": 7,
   "metadata": {},
   "outputs": [
    {
     "data": {
      "image/png": "[encoded data removed]",
      "text/plain": [
       "<Figure size 432x288 with 1 Axes>"
      ]
     },
     "metadata": {
      "needs_background": "light"
     },
     "output_type": "display_data"
    }
   ],
   "source": [
    "## pure rotation\n",
    "\n",
    "def rotate(angle):\n",
    "    # 2D input vector\n",
    "    v = np.array([ 3, -2 ])\n",
    "\n",
    "    # 2x2 rotation matrix\n",
    "    th = 5*np.pi/angle\n",
    "    A = np.array([ [2*math.cos(th),-math.sin(th)], [math.sin(th),math.cos(th)] ])\n",
    "\n",
    "    # output vector is Av (convert v to column)\n",
    "    w = A@np.matrix.transpose(v)\n",
    "\n",
    "\n",
    "    # plot them\n",
    "    plt.plot([0,v[0]],[0,v[1]],label='v')\n",
    "    plt.plot([0,w[0]],[0,w[1]],label='Av')\n",
    "    \n",
    "for i in range(1,50,10):\n",
    "    rotate(i)\n",
    "\n",
    "plt.grid()\n",
    "plt.axis((-4, 4, -4, 4))\n",
    "plt.legend()\n",
    "plt.title('Pure rotation')\n",
    "plt.show()"
   ]
  },
  {
   "cell_type": "code",
   "execution_count": 22,
   "metadata": {},
   "outputs": [
    {
     "ename": "IndexError",
     "evalue": "index 2 is out of bounds for axis 1 with size 2",
     "output_type": "error",
     "traceback": [
      "\u001b[0;31m---------------------------------------------------------------------------\u001b[0m",
      "\u001b[0;31mIndexError\u001b[0m                                Traceback (most recent call last)",
      "\u001b[0;32m<ipython-input-22-01fe4dbe2be6>\u001b[0m in \u001b[0;36m<module>\u001b[0;34m\u001b[0m\n\u001b[1;32m     12\u001b[0m \u001b[0;34m\u001b[0m\u001b[0m\n\u001b[1;32m     13\u001b[0m     \u001b[0mvecmags\u001b[0m\u001b[0;34m[\u001b[0m\u001b[0mi\u001b[0m\u001b[0;34m,\u001b[0m\u001b[0;36m1\u001b[0m\u001b[0;34m]\u001b[0m \u001b[0;34m=\u001b[0m \u001b[0mnp\u001b[0m\u001b[0;34m.\u001b[0m\u001b[0mlinalg\u001b[0m\u001b[0;34m.\u001b[0m\u001b[0mnorm\u001b[0m\u001b[0;34m(\u001b[0m\u001b[0mA1\u001b[0m\u001b[0;34m*\u001b[0m\u001b[0mv\u001b[0m\u001b[0;34m)\u001b[0m\u001b[0;34m\u001b[0m\u001b[0m\n\u001b[0;32m---> 14\u001b[0;31m     \u001b[0mvecmags\u001b[0m\u001b[0;34m[\u001b[0m\u001b[0mi\u001b[0m\u001b[0;34m,\u001b[0m\u001b[0;36m2\u001b[0m\u001b[0;34m]\u001b[0m \u001b[0;34m=\u001b[0m \u001b[0mnp\u001b[0m\u001b[0;34m.\u001b[0m\u001b[0mlinalg\u001b[0m\u001b[0;34m.\u001b[0m\u001b[0mnorm\u001b[0m\u001b[0;34m(\u001b[0m\u001b[0mA2\u001b[0m\u001b[0;34m*\u001b[0m\u001b[0mv\u001b[0m\u001b[0;34m)\u001b[0m\u001b[0;34m\u001b[0m\u001b[0m\n\u001b[0m\u001b[1;32m     15\u001b[0m \u001b[0;34m\u001b[0m\u001b[0m\n\u001b[1;32m     16\u001b[0m \u001b[0;31m# plot them\u001b[0m\u001b[0;34m\u001b[0m\u001b[0;34m\u001b[0m\u001b[0m\n",
      "\u001b[0;31mIndexError\u001b[0m: index 2 is out of bounds for axis 1 with size 2"
     ]
    }
   ],
   "source": [
    "v = np.transpose([3,-2])\n",
    "thetas = np.linspace(0,2*np.pi,100)\n",
    "vecmags = np.zeros((len(thetas),2))\n",
    "\n",
    "for i in range(len(thetas)):\n",
    "    \n",
    "    theta = thetas[i]\n",
    "    \n",
    "    A1 = np.array([ [2*math.cos(theta),-math.sin(theta)], [math.sin(theta),math.cos(theta)] ])\n",
    "    \n",
    "    A2 = np.array([ [math.cos(theta),-math.sin(theta)], [math.sin(theta),math.cos(theta)] ])\n",
    "    \n",
    "    vecmags[i,1] = np.linalg.norm(A1*v)\n",
    "    print(vecmags[i,1])\n",
    "    vecmags[i,2] = np.linalg.norm(A2*v)\n",
    "\n",
    "# plot them\n",
    "plt.plot(thetas,vecmags,label='v')\n",
    "\n",
    "plt.grid()\n",
    "plt.legend()\n",
    "plt.title('Pure rotation')\n",
    "plt.show()"
   ]
  }
 ],
 "metadata": {
  "kernelspec": {
   "display_name": "Python 3",
   "language": "python",
   "name": "python3"
  },
  "language_info": {
   "codemirror_mode": {
    "name": "ipython",
    "version": 3
   },
   "file_extension": ".py",
   "mimetype": "text/x-python",
   "name": "python",
   "nbconvert_exporter": "python",
   "pygments_lexer": "ipython3",
   "version": "3.6.5"
  }
 },
 "nbformat": 4,
 "nbformat_minor": 2
}
