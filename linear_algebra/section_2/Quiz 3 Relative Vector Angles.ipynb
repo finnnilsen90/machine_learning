{
 "cells": [
  {
   "cell_type": "code",
   "execution_count": 1,
   "metadata": {},
   "outputs": [
    {
     "name": "stdout",
     "output_type": "stream",
     "text": [
      "ab => -4\n",
      "bc => 6\n",
      "ac => -4\n"
     ]
    }
   ],
   "source": [
    "# Dot product using numpy\n",
    "\n",
    "import numpy as np\n",
    "import math\n",
    "import matplotlib.pyplot as plt\n",
    "from mpl_toolkits.mplot3d import Axes3D\n",
    "\n",
    "a = np.array([1,-2])\n",
    "b = np.array([2,3])\n",
    "c = np.array([0,2])\n",
    "\n",
    "v1 = a\n",
    "v2 = c\n",
    "\n",
    "dp = np.dot( v1,v2 )\n",
    "print('ab => '+str(np.dot( a,b )))\n",
    "print('bc => '+str(np.dot( b,c )))\n",
    "print('ac => '+str(np.dot( a,c )))"
   ]
  },
  {
   "cell_type": "code",
   "execution_count": 9,
   "metadata": {},
   "outputs": [
    {
     "name": "stdout",
     "output_type": "stream",
     "text": [
      "ab => -2\n",
      "bc => 6\n",
      "ac => -4\n"
     ]
    }
   ],
   "source": [
    "# Manual dot product function\n",
    "\n",
    "def dot_prod_matrix(a,b):\n",
    "    a_shape=a.shape\n",
    "    b_shape=b.shape\n",
    "\n",
    "    if a_shape==b.shape:\n",
    "        if len(a_shape)==1:\n",
    "            dp=0\n",
    "            dp_vector=[]\n",
    "            for i in range(a_shape[0]):\n",
    "                    dp = dp + a[i]*b[i]\n",
    "                    dp_vector.append(dp)\n",
    "            return np.sum(dp_vector)\n",
    "        else:\n",
    "            dp=0\n",
    "            for i in range(a_shape[0]):\n",
    "                dp_matrix=[]\n",
    "                for r in range(a_shape[1]):\n",
    "                    dp = dp + a[i][r]*b[i][r]\n",
    "                    dp_matrix.append(dp)\n",
    "            return np.sum(dp_matrix)\n",
    "    else:\n",
    "        return 'Matrix A does not match B'\n",
    "\n",
    "print('ab => '+str(dot_prod_matrix( a,b )))\n",
    "print('bc => '+str(dot_prod_matrix( b,c )))\n",
    "print('ac => '+str(dot_prod_matrix( a,c )))"
   ]
  }
 ],
 "metadata": {
  "kernelspec": {
   "display_name": "Python 3",
   "language": "python",
   "name": "python3"
  },
  "language_info": {
   "codemirror_mode": {
    "name": "ipython",
    "version": 3
   },
   "file_extension": ".py",
   "mimetype": "text/x-python",
   "name": "python",
   "nbconvert_exporter": "python",
   "pygments_lexer": "ipython3",
   "version": "3.7.3"
  }
 },
 "nbformat": 4,
 "nbformat_minor": 2
}
