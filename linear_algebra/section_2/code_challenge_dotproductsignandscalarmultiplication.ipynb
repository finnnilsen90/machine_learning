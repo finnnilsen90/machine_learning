{
 "cells": [
  {
   "cell_type": "code",
   "execution_count": 1,
   "metadata": {},
   "outputs": [],
   "source": [
    "# test whether the dot product sign is ivariant to scalar multiplaction.\n",
    "\n",
    "import numpy as np\n",
    "import random as rnd\n"
   ]
  },
  {
   "cell_type": "code",
   "execution_count": 2,
   "metadata": {},
   "outputs": [
    {
     "name": "stdout",
     "output_type": "stream",
     "text": [
      "Original v1 => [-3, 4, 5]\n",
      "Original v2 => [3, 6, -3]\n",
      "Random v1 => [  3 -10  -3]\n",
      "Random v2 => [5 6 4]\n"
     ]
    }
   ],
   "source": [
    "# generate two vectors 3 dimensional vectors(r3)\n",
    "v1 = np.array([rnd.randint(-10,10) for i in range(3)])\n",
    "v2 = np.array([rnd.randint(-10,10) for i in range(3)])\n",
    "o_v1 = [-3,4,5]\n",
    "o_v2 = [3,6,-3]\n",
    "\n",
    "\n",
    "print('Original v1 => '+str(o_v1))\n",
    "print('Original v2 => '+str(o_v2))\n",
    "\n",
    "print('Random v1 => '+str(v1))\n",
    "print('Random v2 => '+str(v2))"
   ]
  },
  {
   "cell_type": "code",
   "execution_count": 3,
   "metadata": {},
   "outputs": [
    {
     "name": "stdout",
     "output_type": "stream",
     "text": [
      "Original s1 => 2\n",
      "Original s2 => 3\n",
      "Random s1 => -8\n",
      "Random s2 => 9\n"
     ]
    }
   ],
   "source": [
    "# generate two numbers\n",
    "s1 = rnd.randint(-10,10)\n",
    "s2 = rnd.randint(-10,10)\n",
    "\n",
    "o_s1 = 2\n",
    "o_s2 = 3\n",
    "\n",
    "print('Original s1 => '+str(o_s1))\n",
    "print('Original s2 => '+str(o_s2))\n",
    "\n",
    "print('Random s1 => '+str(s1))\n",
    "print('Random s2 => '+str(s2))"
   ]
  },
  {
   "cell_type": "code",
   "execution_count": 4,
   "metadata": {},
   "outputs": [
    {
     "name": "stdout",
     "output_type": "stream",
     "text": [
      "Original dot => 0\n",
      "Random dot => -57\n"
     ]
    }
   ],
   "source": [
    "# compute the dot product between vectors\n",
    "\n",
    "dot_v = np.dot(v1,v2)\n",
    "dot_v\n",
    "print('Original dot => '+str(np.dot(o_v1,o_v2)))\n",
    "print('Random dot => '+str(np.dot(v1,v2)))"
   ]
  },
  {
   "cell_type": "code",
   "execution_count": 8,
   "metadata": {},
   "outputs": [
    {
     "name": "stdout",
     "output_type": "stream",
     "text": [
      "Original scaled dot => 0\n",
      "Random scaled dot => 4104\n"
     ]
    }
   ],
   "source": [
    "# compute the dot product betwween the scaled vectors\n",
    "\n",
    "def vector_scale(v,s):\n",
    "    \n",
    "    sv=[]\n",
    "    for i in v:\n",
    "        sv.append(i*s)\n",
    "    return sv\n",
    "\n",
    "o_scaled_v1 = vector_scale(o_v1,o_s1)\n",
    "o_scaled_v2 = vector_scale(o_v2,o_s2)\n",
    "scaled_v1 = vector_scale(v1,s1)\n",
    "scaled_v2 = vector_scale(v2,s2)\n",
    "\n",
    "print('Original scaled dot => '+str(np.dot(o_scaled_v1,o_scaled_v2)))\n",
    "print('Random scaled dot => '+str(np.dot(scaled_v1,scaled_v2)))"
   ]
  }
 ],
 "metadata": {
  "kernelspec": {
   "display_name": "Python 3",
   "language": "python",
   "name": "python3"
  },
  "language_info": {
   "codemirror_mode": {
    "name": "ipython",
    "version": 3
   },
   "file_extension": ".py",
   "mimetype": "text/x-python",
   "name": "python",
   "nbconvert_exporter": "python",
   "pygments_lexer": "ipython3",
   "version": "3.6.5"
  }
 },
 "nbformat": 4,
 "nbformat_minor": 2
}
