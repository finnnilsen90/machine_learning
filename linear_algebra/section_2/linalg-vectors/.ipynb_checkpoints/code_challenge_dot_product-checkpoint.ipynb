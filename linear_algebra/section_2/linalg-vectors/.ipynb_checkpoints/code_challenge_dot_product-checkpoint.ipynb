{
 "cells": [
  {
   "cell_type": "code",
   "execution_count": 1,
   "metadata": {},
   "outputs": [
    {
     "name": "stdout",
     "output_type": "stream",
     "text": [
      "[[47 51 96 45 32 72]\n",
      " [37 78 22 21  4 33]\n",
      " [39 92 48 55 51 67]\n",
      " [28 76  3 10 15 28]]\n",
      "[[94 13 73 91 32 66]\n",
      " [82 90 82  3 91 26]\n",
      " [68 97  1  6 85 50]\n",
      " [ 8 91  2  1 11 92]]\n"
     ]
    }
   ],
   "source": [
    "# create 2 4x6 matrices of random numbers\n",
    "\n",
    "import numpy as np\n",
    "import random as rnd\n",
    "\n",
    "def matrix_gen(x,y,num=rnd):\n",
    "    \n",
    "    matrix=[]\n",
    "    for i in range(x):\n",
    "        column=[]\n",
    "        for r in range(y):\n",
    "            column.append(rnd.randint(0,100))\n",
    "        matrix.append(column)\n",
    "    \n",
    "    return np.array(matrix)\n",
    "\n",
    "A=matrix_gen(4,6)\n",
    "B=matrix_gen(4,6)\n",
    "print(A)\n",
    "print(B)"
   ]
  },
  {
   "cell_type": "code",
   "execution_count": 2,
   "metadata": {},
   "outputs": [
    {
     "data": {
      "text/plain": [
       "[54966, 61882, 61888, 61898, 62063, 64639]"
      ]
     },
     "execution_count": 2,
     "metadata": {},
     "output_type": "execute_result"
    }
   ],
   "source": [
    "# Us a for loop to compute dot product between corresponding columnss\n",
    "def dot_prod_matrix(a,b):\n",
    "    a_shape=a.shape\n",
    "    b_shape=b.shape\n",
    "    \n",
    "    if a_shape==b.shape:\n",
    "        dp=0\n",
    "        for i in range(a_shape[0]):\n",
    "            dp_matrix=[]\n",
    "            dp_matrix_two=[]\n",
    "            for r in range(a_shape[1]):\n",
    "                dp = dp + a[i][r]*b[i][r]\n",
    "                dp_matrix.append(dp)\n",
    "                dp_matrix_two.append(np.dot(a[i][r],b[i][r]))\n",
    "            \n",
    "        return dp_matrix\n",
    "    else:\n",
    "        return 'Matrix A does not match B'\n",
    "\n",
    "dot_prod_matrix(A,B)"
   ]
  }
 ],
 "metadata": {
  "kernelspec": {
   "display_name": "Python 3",
   "language": "python",
   "name": "python3"
  },
  "language_info": {
   "codemirror_mode": {
    "name": "ipython",
    "version": 3
   },
   "file_extension": ".py",
   "mimetype": "text/x-python",
   "name": "python",
   "nbconvert_exporter": "python",
   "pygments_lexer": "ipython3",
   "version": "3.6.5"
  }
 },
 "nbformat": 4,
 "nbformat_minor": 2
}
