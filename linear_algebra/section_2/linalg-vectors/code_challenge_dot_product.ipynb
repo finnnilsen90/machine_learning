{
 "cells": [
  {
   "cell_type": "code",
   "execution_count": 1,
   "metadata": {},
   "outputs": [
    {
     "name": "stdout",
     "output_type": "stream",
     "text": [
      "[[51 64  8 86 76 79]\n",
      " [22 87  6 19 25 46]\n",
      " [31 66 76 64 91 94]\n",
      " [42 49 10 94  0 15]]\n",
      "[[81 95 21 50 84 71]\n",
      " [26  0 64 30  0 88]\n",
      " [ 0 67 56 77 33 88]\n",
      " [51 13 23 61 92 63]]\n"
     ]
    }
   ],
   "source": [
    "# create 2 4x6 matrices of random numbers\n",
    "\n",
    "import numpy as np\n",
    "import random as rnd\n",
    "\n",
    "def matrix_gen(x,y,num=rnd):\n",
    "    \n",
    "    matrix=[]\n",
    "    for i in range(x):\n",
    "        column=[]\n",
    "        for r in range(y):\n",
    "            column.append(rnd.randint(0,100))\n",
    "        matrix.append(column)\n",
    "    \n",
    "    return np.array(matrix)\n",
    "\n",
    "A=matrix_gen(4,6)\n",
    "B=matrix_gen(4,6)\n",
    "print(A)\n",
    "print(B)"
   ]
  },
  {
   "cell_type": "code",
   "execution_count": 6,
   "metadata": {},
   "outputs": [
    {
     "data": {
      "text/plain": [
       "377866"
      ]
     },
     "execution_count": 6,
     "metadata": {},
     "output_type": "execute_result"
    }
   ],
   "source": [
    "# Us a for loop to compute dot product between corresponding columnss\n",
    "def dot_prod_matrix(a,b):\n",
    "    a_shape=a.shape\n",
    "    b_shape=b.shape\n",
    "    \n",
    "    if a_shape==b.shape:\n",
    "        dp=0\n",
    "        for i in range(a_shape[0]):\n",
    "            dp_matrix=[]\n",
    "            for r in range(a_shape[1]):\n",
    "                dp = dp + a[i][r]*b[i][r]\n",
    "                dp_matrix.append(dp)\n",
    "        return np.sum(dp_matrix)\n",
    "    else:\n",
    "        return 'Matrix A does not match B'\n",
    "\n",
    "dot_prod_matrix(A,B)"
   ]
  }
 ],
 "metadata": {
  "kernelspec": {
   "display_name": "Python 3",
   "language": "python",
   "name": "python3"
  },
  "language_info": {
   "codemirror_mode": {
    "name": "ipython",
    "version": 3
   },
   "file_extension": ".py",
   "mimetype": "text/x-python",
   "name": "python",
   "nbconvert_exporter": "python",
   "pygments_lexer": "ipython3",
   "version": "3.7.3"
  }
 },
 "nbformat": 4,
 "nbformat_minor": 2
}
