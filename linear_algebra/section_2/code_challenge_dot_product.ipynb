{
 "cells": [
  {
   "cell_type": "code",
   "execution_count": 28,
   "metadata": {},
   "outputs": [
    {
     "name": "stdout",
     "output_type": "stream",
     "text": [
      "[[  4  -6   0   4   0  -5]\n",
      " [ -9   7   1  -2   8   1]\n",
      " [ -7   6   8  -9   9 -10]\n",
      " [  2  -5   6   0   1  -6]]\n",
      "[[-9 -4 -7  3 -9  7]\n",
      " [-4  8 -2 -6 10 -1]\n",
      " [10 -3  2  1  8  2]\n",
      " [-7  6 -7  2  7  1]]\n"
     ]
    }
   ],
   "source": [
    "# create 2 4x6 matrices of random numbers\n",
    "\n",
    "import numpy as np\n",
    "import random as rnd\n",
    "\n",
    "def matrix_gen(x,y,num=rnd):\n",
    "    \n",
    "    matrix=[]\n",
    "    for i in range(x):\n",
    "        column=[]\n",
    "        for r in range(y):\n",
    "            column.append(rnd.randint(-10,10))\n",
    "        matrix.append(column)\n",
    "    \n",
    "    return np.array(matrix)\n",
    "\n",
    "A=matrix_gen(4,6)\n",
    "B=matrix_gen(4,6)\n",
    "print(A)\n",
    "print(B)"
   ]
  },
  {
   "cell_type": "code",
   "execution_count": 30,
   "metadata": {},
   "outputs": [
    {
     "data": {
      "text/plain": [
       "array([-84,  32, -28,  15, 159, -62])"
      ]
     },
     "execution_count": 30,
     "metadata": {},
     "output_type": "execute_result"
    }
   ],
   "source": [
    "# Us a for loop to compute dot product between corresponding columnss\n",
    "def dot_prod_matrix(a,b):\n",
    "    a_shape=a.shape\n",
    "    b_shape=b.shape\n",
    "    \n",
    "    if a_shape==b.shape:\n",
    "        dp_matrix=[]\n",
    "        for i in range(a_shape[1]):\n",
    "            dp_matrix.append(np.dot(a[:,i],b[:,i]))\n",
    "                \n",
    "        return np.transpose(dp_matrix)\n",
    "    else:\n",
    "        return 'Matrix A does not match B'\n",
    "\n",
    "dot_prod_matrix(A,B)"
   ]
  }
 ],
 "metadata": {
  "kernelspec": {
   "display_name": "Python 3",
   "language": "python",
   "name": "python3"
  },
  "language_info": {
   "codemirror_mode": {
    "name": "ipython",
    "version": 3
   },
   "file_extension": ".py",
   "mimetype": "text/x-python",
   "name": "python",
   "nbconvert_exporter": "python",
   "pygments_lexer": "ipython3",
   "version": "3.6.5"
  }
 },
 "nbformat": 4,
 "nbformat_minor": 2
}
