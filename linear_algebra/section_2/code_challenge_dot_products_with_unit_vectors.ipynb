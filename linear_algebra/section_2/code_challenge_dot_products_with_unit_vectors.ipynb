{
 "cells": [
  {
   "cell_type": "code",
   "execution_count": 1,
   "metadata": {},
   "outputs": [
    {
     "name": "stdout",
     "output_type": "stream",
     "text": [
      "a => [-160 -100   80 -160]\n",
      "b => [180   0  20 -60]\n"
     ]
    }
   ],
   "source": [
    "import numpy as np\n",
    "import random as rnd\n",
    "\n",
    "# create two random integer vectors.\n",
    "a = np.array([20*rnd.randint(-10,10) for i in range(4)])\n",
    "b = np.array([20*rnd.randint(-10,10) for i in range(4)])\n",
    "print('a => '+str(a))\n",
    "print('b => '+str(b))"
   ]
  },
  {
   "cell_type": "code",
   "execution_count": 5,
   "metadata": {},
   "outputs": [
    {
     "name": "stdout",
     "output_type": "stream",
     "text": [
      "a_len => 260.0\n",
      "b_len => 190.78784028338913\n",
      "dot prod magnitude => 49604.83847368117\n"
     ]
    }
   ],
   "source": [
    "# compute the lengths of the individual vectors and the magnitude of the dot product.\n",
    "\n",
    "a_len = np.sqrt( sum( np.multiply(a,a)) )\n",
    "b_len = np.sqrt( sum( np.multiply(b,b)) )\n",
    "\n",
    "print('a_len => '+str(a_len))\n",
    "print('b_len => '+str(b_len))\n",
    "print('dot prod magnitude => '+str(np.linalg.norm(np.dot(a_len,b_len))))\n"
   ]
  },
  {
   "cell_type": "code",
   "execution_count": 6,
   "metadata": {},
   "outputs": [
    {
     "data": {
      "image/png": "[encoded data removed]",
      "text/plain": [
       "<Figure size 432x288 with 1 Axes>"
      ]
     },
     "metadata": {
      "needs_background": "light"
     },
     "output_type": "display_data"
    }
   ],
   "source": [
    "# normalize the vectors. Creating a unit vectors in the same direction as the original two vectos.\n",
    "import matplotlib.pyplot as plt\n",
    "from mpl_toolkits.mplot3d import Axes3D\n",
    "# mu\n",
    "mu_a = 1/np.linalg.norm(a)\n",
    "mu_b = 1/np.linalg.norm(b)\n",
    "\n",
    "v1n = a*mu_a\n",
    "v2n = b*mu_b\n",
    "\n",
    "# plot them\n",
    "plt.plot([0, a[0]],[0, a[1]],'b',label='a')\n",
    "h=plt.plot([0, v1n[0]],[0, v1n[1]],'r',label='a-norm')\n",
    "plt.setp(h,linewidth=5)\n",
    "\n",
    "plt.plot([0, b[0]],[0, b[1]],'b',label='b')\n",
    "j=plt.plot([0, v2n[0]],[0, v2n[1]],'r',label='b-norm')\n",
    "plt.setp(j,linewidth=5)\n",
    "\n",
    "# axis square\n",
    "plt.axis('square')\n",
    "plt.axis(( -6, 6, -6, 6 ))\n",
    "plt.grid()\n",
    "plt.legend()\n",
    "plt.show()"
   ]
  },
  {
   "cell_type": "code",
   "execution_count": 4,
   "metadata": {},
   "outputs": [
    {
     "name": "stdout",
     "output_type": "stream",
     "text": [
      "dot prod magnitude => 0.35480409858280315\n"
     ]
    }
   ],
   "source": [
    "# compute the magnitude of that dot product.\n",
    "\n",
    "print('dot prod magnitude => '+str(np.linalg.norm(np.dot(v1n,v2n))))"
   ]
  }
 ],
 "metadata": {
  "kernelspec": {
   "display_name": "Python 3",
   "language": "python",
   "name": "python3"
  },
  "language_info": {
   "codemirror_mode": {
    "name": "ipython",
    "version": 3
   },
   "file_extension": ".py",
   "mimetype": "text/x-python",
   "name": "python",
   "nbconvert_exporter": "python",
   "pygments_lexer": "ipython3",
   "version": "3.7.3"
  }
 },
 "nbformat": 4,
 "nbformat_minor": 2
}
