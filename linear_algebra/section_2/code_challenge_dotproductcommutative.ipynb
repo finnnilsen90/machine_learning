{
 "cells": [
  {
   "cell_type": "code",
   "execution_count": 1,
   "metadata": {},
   "outputs": [],
   "source": [
    "# Is the dot product commutative?\n",
    "import numpy as np\n",
    "import random as rnd"
   ]
  },
  {
   "cell_type": "code",
   "execution_count": 3,
   "metadata": {},
   "outputs": [
    {
     "name": "stdout",
     "output_type": "stream",
     "text": [
      "Dot product commutative!\n"
     ]
    }
   ],
   "source": [
    "# Generate 2 100 element row vectors. Compute the dot product a * b and b * a.\n",
    "a = np.array([rnd.randint(-10,10) for i in range(100)])\n",
    "b = np.array([rnd.randint(-10,10) for i in range(100)])\n",
    "\n",
    "ab = np.dot(a,b)\n",
    "ba = np.dot(b,a)\n",
    "\n",
    "if ab == ba:\n",
    "    print('Dot product commutative!')\n",
    "else:\n",
    "    print('Dot product NOT commutative!')"
   ]
  },
  {
   "cell_type": "code",
   "execution_count": 4,
   "metadata": {},
   "outputs": [
    {
     "name": "stdout",
     "output_type": "stream",
     "text": [
      "Dot product commutative!\n"
     ]
    }
   ],
   "source": [
    "# Generate 2 2 element integer row vectors. Compute the dot product a * b and b * a.\n",
    "a = np.array([rnd.randint(-10,10) for i in range(2)])\n",
    "b = np.array([rnd.randint(-10,10) for i in range(2)])\n",
    "\n",
    "ab = np.dot(a,b)\n",
    "ba = np.dot(b,a)\n",
    "\n",
    "if ab == ba:\n",
    "    print('Dot product commutative!')\n",
    "else:\n",
    "    print('Dot product NOT commutative!')"
   ]
  }
 ],
 "metadata": {
  "kernelspec": {
   "display_name": "Python 3",
   "language": "python",
   "name": "python3"
  },
  "language_info": {
   "codemirror_mode": {
    "name": "ipython",
    "version": 3
   },
   "file_extension": ".py",
   "mimetype": "text/x-python",
   "name": "python",
   "nbconvert_exporter": "python",
   "pygments_lexer": "ipython3",
   "version": "3.6.5"
  }
 },
 "nbformat": 4,
 "nbformat_minor": 2
}
