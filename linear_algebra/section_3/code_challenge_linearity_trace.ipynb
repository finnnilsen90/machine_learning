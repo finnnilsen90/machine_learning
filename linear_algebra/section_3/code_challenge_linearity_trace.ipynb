{
 "cells": [
  {
   "cell_type": "code",
   "execution_count": 9,
   "metadata": {},
   "outputs": [
    {
     "name": "stdout",
     "output_type": "stream",
     "text": [
      "[[-6.13109520e-01 -1.47569132e+00 -1.84418743e+00  9.36290826e-01]\n",
      " [-3.69959717e-01  1.59531608e+00  5.69375993e-01  1.01727069e+00]\n",
      " [ 1.17121143e+00 -7.20426202e-01  6.99743934e-01 -1.08065115e+00]\n",
      " [ 7.88011997e-01  6.88591697e-01 -2.47882207e+00  4.76401813e-01]\n",
      " [-1.30200885e+00 -1.24043270e-04 -1.51167189e+00 -5.27410942e-01]]\n",
      "2.1583523035593473\n",
      " \n",
      "[[-3.41623779e-01 -1.56676224e+00  1.52956947e-01  3.11679408e+00]\n",
      " [ 4.69991482e-03  2.18358731e-01 -6.04983932e-01 -1.58981601e+00]\n",
      " [-8.14140635e-01  3.82446648e-01  9.87635317e-01  9.09493928e-01]\n",
      " [ 5.06670916e-02 -8.35215203e-01 -2.42691372e-03 -1.28011782e+00]\n",
      " [-4.72290149e-01  9.63998313e-01  2.17398835e+00  2.26070848e-01]]\n",
      "-0.4157475537501767\n",
      " \n",
      "1.7426047498091706\n",
      "1.742604749809171\n",
      " \n",
      "4.3167046071186945\n",
      "4.3167046071186945\n"
     ]
    }
   ],
   "source": [
    "import numpy as np\n",
    "\n",
    "# topic: the linearity of trace\n",
    "\n",
    "# determine the relationship between tr(A)+tr(B) and tr(A+B)\n",
    "A = np.random.randn(5,4)\n",
    "B = np.random.randn(5,4)\n",
    "\n",
    "tr_A = np.trace(A)\n",
    "tr_B = np.trace(B)\n",
    "print(A)\n",
    "print(tr_A)\n",
    "print(' ')\n",
    "print(B)\n",
    "print(tr_B)\n",
    "print(' ')\n",
    "print(tr_A+tr_B)\n",
    "tr_AB = np.trace(A+B)\n",
    "print(tr_AB)\n",
    "\n",
    "# determine the relationship between tr(l*A) and l*tr(A)\n",
    "l = np.random.randint(0,9)\n",
    "l_A = l*np.array(A)\n",
    "\n",
    "print(' ')\n",
    "print(np.trace(l_A))\n",
    "print(l*np.trace(A))"
   ]
  },
  {
   "cell_type": "code",
   "execution_count": 10,
   "metadata": {},
   "outputs": [
    {
     "data": {
      "text/plain": [
       "0.23529411764705882"
      ]
     },
     "execution_count": 10,
     "metadata": {},
     "output_type": "execute_result"
    }
   ],
   "source": []
  }
 ],
 "metadata": {
  "kernelspec": {
   "display_name": "Python 3",
   "language": "python",
   "name": "python3"
  },
  "language_info": {
   "codemirror_mode": {
    "name": "ipython",
    "version": 3
   },
   "file_extension": ".py",
   "mimetype": "text/x-python",
   "name": "python",
   "nbconvert_exporter": "python",
   "pygments_lexer": "ipython3",
   "version": "3.7.3"
  }
 },
 "nbformat": 4,
 "nbformat_minor": 2
}
