{
 "cells": [
  {
   "cell_type": "code",
   "execution_count": 29,
   "metadata": {},
   "outputs": [
    {
     "name": "stdout",
     "output_type": "stream",
     "text": [
      "s(A+B) =>[[ 1.37978597 -3.93448177 -1.47247995  3.88996525]\n",
      " [ 1.05633432  0.33469992 -4.27820261  3.96724209]\n",
      " [ 3.64340702 -3.56247    -1.47968928  0.0300099 ]\n",
      " [-4.64630629  7.15275665 -5.00134568 -0.76800807]]\n",
      "sA + sB =>[[ 1.37978597 -3.93448177 -1.47247995  3.88996525]\n",
      " [ 1.05633432  0.33469992 -4.27820261  3.96724209]\n",
      " [ 3.64340702 -3.56247    -1.47968928  0.0300099 ]\n",
      " [-4.64630629  7.15275665 -5.00134568 -0.76800807]]\n",
      "False\n",
      "[[ 0.00000000e+00  0.00000000e+00  0.00000000e+00  0.00000000e+00]\n",
      " [ 0.00000000e+00  1.66533454e-16  0.00000000e+00  0.00000000e+00]\n",
      " [ 0.00000000e+00  0.00000000e+00 -2.22044605e-16  0.00000000e+00]\n",
      " [-8.88178420e-16  0.00000000e+00  0.00000000e+00  0.00000000e+00]]\n"
     ]
    }
   ],
   "source": [
    "# test for some random MxN matrices whether s(A+B) = sA + sB\n",
    "\n",
    "import numpy as np\n",
    "\n",
    "s = 3\n",
    "A = np.random.randn(4,4)\n",
    "B = np.random.randn(4,4)\n",
    "\n",
    "answer_one = s*(A+B)\n",
    "answer_two = s*A+s*B\n",
    "\n",
    "print('s(A+B) =>'+str(answer_one))\n",
    "\n",
    "print('sA + sB =>'+str(answer_two))\n",
    "\n",
    "       \n",
    "print(np.array_equal(answer_one,answer_two))\n",
    "\n",
    "\n",
    "# There is a rounding error. Computers have a hard time achieving absolute zero. The two matricies are\n",
    "# basically the same. \n",
    "subtract = answer_one-answer_two\n",
    "\n",
    "print(subtract)\n"
   ]
  }
 ],
 "metadata": {
  "kernelspec": {
   "display_name": "Python 3",
   "language": "python",
   "name": "python3"
  },
  "language_info": {
   "codemirror_mode": {
    "name": "ipython",
    "version": 3
   },
   "file_extension": ".py",
   "mimetype": "text/x-python",
   "name": "python",
   "nbconvert_exporter": "python",
   "pygments_lexer": "ipython3",
   "version": "3.7.3"
  }
 },
 "nbformat": 4,
 "nbformat_minor": 2
}
