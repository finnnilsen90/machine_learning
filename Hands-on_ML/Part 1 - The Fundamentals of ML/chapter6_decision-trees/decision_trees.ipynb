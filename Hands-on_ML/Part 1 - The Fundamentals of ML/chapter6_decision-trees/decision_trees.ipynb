{
 "cells": [
  {
   "cell_type": "code",
   "execution_count": 1,
   "metadata": {},
   "outputs": [],
   "source": [
    "### Decision Trees ###\n",
    "\n",
    "# References\n",
    "# Chapter 2: DecisionTreeRegressor\n",
    "# Chapter 7: Random Forests "
   ]
  },
  {
   "cell_type": "code",
   "execution_count": 2,
   "metadata": {
    "scrolled": true
   },
   "outputs": [
    {
     "data": {
      "text/plain": [
       "DecisionTreeClassifier(class_weight=None, criterion='gini', max_depth=2,\n",
       "                       max_features=None, max_leaf_nodes=None,\n",
       "                       min_impurity_decrease=0.0, min_impurity_split=None,\n",
       "                       min_samples_leaf=1, min_samples_split=2,\n",
       "                       min_weight_fraction_leaf=0.0, presort=False,\n",
       "                       random_state=None, splitter='best')"
      ]
     },
     "execution_count": 2,
     "metadata": {},
     "output_type": "execute_result"
    }
   ],
   "source": [
    "## Training and Visualizing a Decision Tree ##\n",
    "\n",
    "from sklearn.datasets import load_iris\n",
    "from sklearn.tree import DecisionTreeClassifier\n",
    "\n",
    "iris = load_iris()\n",
    "X = iris.data[:, 2:] # petal length and width\n",
    "y = iris.target\n",
    "\n",
    "tree_clf = DecisionTreeClassifier(max_depth=2)\n",
    "tree_clf.fit(X,y)"
   ]
  },
  {
   "cell_type": "code",
   "execution_count": 3,
   "metadata": {},
   "outputs": [
    {
     "name": "stdout",
     "output_type": "stream",
     "text": [
      "C:\\Users\\admin\\OneDrive\\Desktop\\machine_learning\\Hands-on_ML\\chapter6_decision-trees\n"
     ]
    }
   ],
   "source": [
    "import os\n",
    "\n",
    "print(os.path.dirname(os.path.realpath(\"chapter6_decision-trees\")))"
   ]
  },
  {
   "cell_type": "code",
   "execution_count": 4,
   "metadata": {},
   "outputs": [],
   "source": [
    "import os\n",
    "\n",
    "# Where to save the figures\n",
    "PROJECT_ROOT_DIR = os.path.dirname(os.path.realpath(\"chapter6_decision-trees\"))\n",
    "CHAPTER_ID = \"chapter6_decision-trees\"\n",
    "\n",
    "def image_path(fig_id):\n",
    "    return os.path.join(PROJECT_ROOT_DIR, \"images\", fig_id)\n",
    "\n",
    "from sklearn.tree import export_graphviz\n",
    "\n",
    "# Create visualization of the decision tree.\n",
    "export_graphviz(\n",
    "    tree_clf,\n",
    "    out_file=image_path('iris_tree.dot'),\n",
    "    feature_names=iris.feature_names[2:],\n",
    "    class_names=iris.target_names,\n",
    "    rounded=True,\n",
    "    filled=True\n",
    ")\n",
    "\n",
    "# Convert .dot file to variety of formats using the command-line tool from graphviz package.\n",
    "\n",
    "# Nodes \"gini\" attribute measures its impurity. \"0\" is pure\n",
    "# If all training instances belong in the same class, it's gini score is 0. \n",
    "\n",
    "# Example: dot -Tpng iris_tree.dot -o iris_tree.png"
   ]
  },
  {
   "cell_type": "code",
   "execution_count": 5,
   "metadata": {},
   "outputs": [
    {
     "data": {
      "image/png": "[encoded data removed]",
      "text/plain": [
       "<Figure size 576x288 with 1 Axes>"
      ]
     },
     "metadata": {
      "needs_background": "light"
     },
     "output_type": "display_data"
    }
   ],
   "source": [
    "%matplotlib inline\n",
    "import matplotlib\n",
    "import matplotlib.pyplot as plt\n",
    "\n",
    "import numpy as np\n",
    "from matplotlib.colors import ListedColormap\n",
    "\n",
    "def plot_decision_boundary(clf, X, y, axes=[0, 7.5, 0, 3], iris=True, legend=False, plot_training=True):\n",
    "    x1s = np.linspace(axes[0], axes[1], 100)\n",
    "    x2s = np.linspace(axes[2], axes[3], 100)\n",
    "    x1, x2 = np.meshgrid(x1s, x2s)\n",
    "    X_new = np.c_[x1.ravel(), x2.ravel()]\n",
    "    y_pred = clf.predict(X_new).reshape(x1.shape)\n",
    "    custom_cmap = ListedColormap(['#fafab0','#9898ff','#a0faa0'])\n",
    "    plt.contourf(x1, x2, y_pred, alpha=0.3, cmap=custom_cmap)\n",
    "    if not iris:\n",
    "        custom_cmap2 = ListedColormap(['#7d7d58','#4c4c7f','#507d50'])\n",
    "        plt.contour(x1, x2, y_pred, cmap=custom_cmap2, alpha=0.8)\n",
    "    if plot_training:\n",
    "        plt.plot(X[:, 0][y==0], X[:, 1][y==0], \"yo\", label=\"Iris-Setosa\")\n",
    "        plt.plot(X[:, 0][y==1], X[:, 1][y==1], \"bs\", label=\"Iris-Versicolor\")\n",
    "        plt.plot(X[:, 0][y==2], X[:, 1][y==2], \"g^\", label=\"Iris-Virginica\")\n",
    "        plt.axis(axes)\n",
    "    if iris:\n",
    "        plt.xlabel(\"Petal length\", fontsize=14)\n",
    "        plt.ylabel(\"Petal width\", fontsize=14)\n",
    "    else:\n",
    "        plt.xlabel(r\"$x_1$\", fontsize=18)\n",
    "        plt.ylabel(r\"$x_2$\", fontsize=18, rotation=0)\n",
    "    if legend:\n",
    "        plt.legend(loc=\"lower right\", fontsize=14)\n",
    "\n",
    "plt.figure(figsize=(8, 4))\n",
    "# Plot data\n",
    "plot_decision_boundary(tree_clf, X, y)\n",
    "# Decision boundaries.\n",
    "plt.plot([2.45, 2.45], [0, 3], \"k-\", linewidth=2)\n",
    "plt.plot([2.45, 7.5], [1.75, 1.75], \"k--\", linewidth=2)\n",
    "plt.plot([4.95, 4.95], [0, 1.75], \"k:\", linewidth=2)\n",
    "plt.plot([4.85, 4.85], [1.75, 3], \"k:\", linewidth=2)\n",
    "plt.text(1.40, 1.0, \"Depth=0\", fontsize=15)\n",
    "plt.text(3.2, 1.80, \"Depth=1\", fontsize=13)\n",
    "plt.text(4.05, 0.5, \"(Depth=2)\", fontsize=11)\n",
    "\n",
    "plt.show()"
   ]
  },
  {
   "cell_type": "code",
   "execution_count": 6,
   "metadata": {},
   "outputs": [
    {
     "data": {
      "text/plain": [
       "array([[0.        , 0.90740741, 0.09259259]])"
      ]
     },
     "execution_count": 6,
     "metadata": {},
     "output_type": "execute_result"
    }
   ],
   "source": [
    "## Estimating Class Probabilities ##\n",
    "\n",
    "\n",
    "tree_clf.predict_proba([[5,1.5]])"
   ]
  },
  {
   "cell_type": "code",
   "execution_count": 7,
   "metadata": {},
   "outputs": [
    {
     "data": {
      "text/plain": [
       "array([1])"
      ]
     },
     "execution_count": 7,
     "metadata": {},
     "output_type": "execute_result"
    }
   ],
   "source": [
    "tree_clf.predict([[5,1.5]])"
   ]
  },
  {
   "cell_type": "code",
   "execution_count": null,
   "metadata": {},
   "outputs": [],
   "source": [
    "## The CART Training Algorithm ##\n",
    "\n",
    "# Scikit-learn uses the classification and regression tree (CART) algotithm to train decision trees\n",
    "# (also called \"growing trees\").\n",
    "\n",
    "# Splits the data into two subsets using a singe feature \"k\".\n",
    "# has a threshold tk.\n",
    "# Once it has split the training set in two it splits the subsets using the same logic until\n",
    "# reaches the msximum depth (definded by the max_depth hyperparameter)\n",
    "# If it can't reach a depth using impurity it uses other hyperparamters listed below.\n",
    "# min_samples_split, min_samples_leaf, min_weight_fraction_leaf, and max_leaf_nodes"
   ]
  },
  {
   "cell_type": "code",
   "execution_count": null,
   "metadata": {},
   "outputs": [],
   "source": [
    "## Computational Complexity ##\n",
    "\n",
    "# Predictions are very fast when traversing the decision tree.\n",
    "\n",
    "# Training takes a while.\n",
    "# Scikit-Learn can speed up training by presorting the data (set presort=True)"
   ]
  },
  {
   "cell_type": "code",
   "execution_count": null,
   "metadata": {},
   "outputs": [],
   "source": [
    "## Gini Impority or Entropy? ##\n",
    "\n",
    "# Default is Gini impurity.\n",
    "# Can measure entropy impurity measure instead by setting the criterion hyperparameter to \"entropy\".\n",
    "# Measure of disorder\n",
    "\n",
    "# For the most part gini and entropy lead to similar trees. Gini is quicker to compute.\n",
    "# Gini impurity tends to isolate the most frequent class in its own branch of the tree.\n",
    "# Entropy tends ot produce slightly more balanced trees. "
   ]
  },
  {
   "cell_type": "code",
   "execution_count": null,
   "metadata": {},
   "outputs": [],
   "source": [
    "## Regularization Hyperparameters ##\n",
    "\n",
    "# Unlike regression decision trees have very litlle assumption. \n",
    "# If left unconstrained, the tree structure will adapt itself to the training data, fitting it\n",
    "# very cloself, and most likely overfitting it. Such a model is often called a nonparametricmodel,\n",
    "# not because it does not determined prior to training, so the model structure is free to stick closely to the data. \n",
    "# In contrast a parametric model have predetermined number of parameters (such as linear model).\n",
    "\n",
    "# Can limit and control overfitting.\n",
    "# One way to do it is to control the max_depth hyperparamter. This controls the depth of the tree.\n",
    "# Other Methods\n",
    "# min_samples_split: the minimum number of samples a leaf node must have.\n",
    "# min_weigth_fraction_leaf: same as min_samples_leaf bt expressed as a fraction of the total \n",
    "# number of weighted instances.\n",
    "# mx_leaf_nodes: meximum number of leaf nodes\n",
    "# max_features: maximum number of features that are evaluated for splitting at each node. \n",
    "# incrasing min_* hyperparameters or reducing max_*hyperparameters will regularize the model. \n"
   ]
  },
  {
   "cell_type": "code",
   "execution_count": 8,
   "metadata": {},
   "outputs": [
    {
     "data": {
      "text/plain": [
       "DecisionTreeRegressor(criterion='mse', max_depth=2, max_features=None,\n",
       "                      max_leaf_nodes=None, min_impurity_decrease=0.0,\n",
       "                      min_impurity_split=None, min_samples_leaf=1,\n",
       "                      min_samples_split=2, min_weight_fraction_leaf=0.0,\n",
       "                      presort=False, random_state=None, splitter='best')"
      ]
     },
     "execution_count": 8,
     "metadata": {},
     "output_type": "execute_result"
    }
   ],
   "source": [
    "## Regression ##\n",
    "\n",
    "# Decision trees can also do regression tasks. \n",
    "\n",
    "from sklearn.tree import DecisionTreeRegressor\n",
    "\n",
    "tree_reg = DecisionTreeRegressor(max_depth=2)\n",
    "tree_reg.fit(X,y)\n",
    "\n",
    "# The result of the above model is insteady of predicting a class in each node\n",
    "# it predicts a value. "
   ]
  },
  {
   "cell_type": "code",
   "execution_count": null,
   "metadata": {},
   "outputs": [],
   "source": [
    "## Exercises\n",
    "\n",
    "# 1. What is the approximate depth of a Decision Tree trained (without retrictions) on a \n",
    "# training set with 1 million instances.\n",
    "# A: The depth should set to a level that maximizes impurity.\n",
    "\n",
    "# Book A: The depth of a well-balanced tree containing m leaves is equal to log**2(m)**2, rounded up.\n",
    "# A binary decision tree (one that makes only bindary decisions, as is the case of all trees in Scikit-Learn)\n",
    "# will end upmore or less well balanced at the end of training, with one leaf per training instance if it is trained\n",
    "# without restrictions. Thus, if the trainig set contains one million instances, the Decision Tree will\n",
    "# have a depth of log**2(10**6) ≈ 20 (actually a bit more since the tree will generally not be perfectly well\n",
    "# balanced).\n",
    "\n",
    "# 2. Is a node's Gini impurity generally lower or greater than its parent's? Is it generally lower/greater\n",
    "#, or always lower/greater?\n",
    "# A: Generally the Gini impurity is greater than the parent. As data is split into classes it becomes\n",
    "# more difficult to make the split pure.\n",
    "\n",
    "# Book A: A node's Gini impurity is generally lower than its parent's. This is due to the CART\n",
    "# training algorithm's cost function, which splits each node in a way taht minimizes the weighted sum\n",
    "# of its children's GIni imputiries... ***More to the answer in the book***\n",
    "\n",
    "# 3. If a Decision Tree is overfitting the training set, is it a good ide to try decreasing max_depht?\n",
    "# A: Yes, by decreasing max depth you allowing the data to generalize the classification more. \n",
    "\n",
    "# Book A: If a decision tree is overfitting the training set, it may be a good idea to decrease max_depth,\n",
    "# since this will constrain the model, regularizing it. "
   ]
  }
 ],
 "metadata": {
  "kernelspec": {
   "display_name": "Python 3",
   "language": "python",
   "name": "python3"
  },
  "language_info": {
   "codemirror_mode": {
    "name": "ipython",
    "version": 3
   },
   "file_extension": ".py",
   "mimetype": "text/x-python",
   "name": "python",
   "nbconvert_exporter": "python",
   "pygments_lexer": "ipython3",
   "version": "3.7.3"
  }
 },
 "nbformat": 4,
 "nbformat_minor": 2
}
